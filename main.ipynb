{
 "cells": [
  {
   "cell_type": "markdown",
   "metadata": {},
   "source": [
    "An example of strategy based on the markowitz min variance portfolio. Your duty is to propose a particular strategy similar to the one located at the folder 'example' "
   ]
  },
  {
   "cell_type": "markdown",
   "metadata": {},
   "source": [
    "Load Data"
   ]
  },
  {
   "cell_type": "code",
   "execution_count": 1,
   "metadata": {},
   "outputs": [],
   "source": [
    "from modules.load_data import load_data\n",
    "dict_data = load_data()"
   ]
  },
  {
   "cell_type": "markdown",
   "metadata": {},
   "source": [
    "A single day example"
   ]
  },
  {
   "cell_type": "code",
   "execution_count": null,
   "metadata": {},
   "outputs": [],
   "source": [
    "from example.strategy_minRisk import strategy_minRisk\n",
    "strategy_minRisk(dict_data, 500, 100)"
   ]
  },
  {
   "cell_type": "markdown",
   "metadata": {},
   "source": [
    "Simulator"
   ]
  },
  {
   "cell_type": "code",
   "execution_count": null,
   "metadata": {},
   "outputs": [],
   "source": [
    "from tqdm import tqdm\n",
    "import pandas as pd\n",
    "import numpy as np\n",
    "from example.strategy_minRisk import strategy_minRisk\n",
    "from modules.strategy_simulator import strategy_simulator\n",
    "\n",
    "# Set the path to the strategy and the strategy itself\n",
    "path = \"example/\"  # Path to your strategy\n",
    "strategy = strategy_minRisk  # Your strategy\n",
    "\n",
    "# Initialize data structures to store results\n",
    "ret_port = pd.Series(dtype=\"float64\")  # Series to store portfolio returns\n",
    "weights_db = pd.DataFrame()  # DataFrame to store historical weights\n",
    "\n",
    "# Loop through a range of time values\n",
    "for t in tqdm(range(500, len(dict_data['prices'].index) - 1)):\n",
    "    # Use the strategy simulator to get portfolio's historical weights [weights_db]\n",
    "    # and its next day returns [ret_port]\n",
    "    ret_port, weights_db = strategy_simulator(path, strategy, dict_data, t, ret_port, weights_db)\n"
   ]
  },
  {
   "cell_type": "code",
   "execution_count": null,
   "metadata": {},
   "outputs": [],
   "source": []
  }
 ],
 "metadata": {
  "kernelspec": {
   "display_name": "Python 3",
   "language": "python",
   "name": "python3"
  },
  "language_info": {
   "codemirror_mode": {
    "name": "ipython",
    "version": 3
   },
   "file_extension": ".py",
   "mimetype": "text/x-python",
   "name": "python",
   "nbconvert_exporter": "python",
   "pygments_lexer": "ipython3",
   "version": "3.11.0"
  },
  "orig_nbformat": 4
 },
 "nbformat": 4,
 "nbformat_minor": 2
}
