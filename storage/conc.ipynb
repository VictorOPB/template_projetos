{
 "cells": [
  {
   "cell_type": "code",
   "execution_count": 2,
   "metadata": {},
   "outputs": [],
   "source": [
    "import pandas as pd\n",
    "\n",
    "database = ['500_534', '535_634', '635_699', '700_719', '720_849', '850_899', '900_1034']\n",
    "\n",
    "df = pd.DataFrame({'Index': [], 'Return': []})\n",
    "total = 0\n",
    "\n",
    "for i in database:\n",
    "  aux = pd.read_parquet(f'series_{i}.parquet')\n",
    "  total = total + len(aux)\n",
    "  df = pd.merge(df, aux, how = 'outer')\n",
    "\n",
    "df = df.set_index('Index')\n",
    "\n",
    "df.to_parquet('series_500_1034.parquet')"
   ]
  }
 ],
 "metadata": {
  "kernelspec": {
   "display_name": "Python 3",
   "language": "python",
   "name": "python3"
  },
  "language_info": {
   "codemirror_mode": {
    "name": "ipython",
    "version": 3
   },
   "file_extension": ".py",
   "mimetype": "text/x-python",
   "name": "python",
   "nbconvert_exporter": "python",
   "pygments_lexer": "ipython3",
   "version": "3.11.4"
  }
 },
 "nbformat": 4,
 "nbformat_minor": 2
}
